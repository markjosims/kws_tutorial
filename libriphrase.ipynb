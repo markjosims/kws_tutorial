{
 "cells": [
  {
   "cell_type": "code",
   "execution_count": null,
   "id": "e82c7b05",
   "metadata": {},
   "outputs": [],
   "source": [
    "import os\n",
    "from glob import glob\n",
    "import pandas as pd"
   ]
  },
  {
   "cell_type": "code",
   "execution_count": 6,
   "id": "9ef19c6c",
   "metadata": {},
   "outputs": [],
   "source": [
    "DATASETS = os.environ.get('DATASETS', '/User/markjos/datasets')\n",
    "LIBRIPHRASE = os.path.join(DATASETS, \"LibriPhrase\")\n",
    "LIBRISPEECH = os.path.join(DATASETS, \"LibriSpeech\")"
   ]
  },
  {
   "cell_type": "code",
   "execution_count": 8,
   "id": "15f6fb60",
   "metadata": {},
   "outputs": [
    {
     "data": {
      "text/plain": [
       "['/Users/markjos/datasets/LibriPhrase/data/libriphrase_diffspk_all_2word.csv',\n",
       " '/Users/markjos/datasets/LibriPhrase/data/libriphrase_diffspk_all_3word.csv',\n",
       " '/Users/markjos/datasets/LibriPhrase/data/libriphrase_diffspk_all_1word.csv',\n",
       " '/Users/markjos/datasets/LibriPhrase/data/libriphrase_diffspk_all_4word.csv',\n",
       " '/Users/markjos/datasets/LibriPhrase/data/librispeech_clean_train_100h_all_utt.csv']"
      ]
     },
     "execution_count": 8,
     "metadata": {},
     "output_type": "execute_result"
    }
   ],
   "source": [
    "csv_paths = glob(os.path.join(LIBRIPHRASE, 'data', '*.csv'))\n",
    "csv_paths"
   ]
  },
  {
   "cell_type": "code",
   "execution_count": null,
   "id": "70854913",
   "metadata": {},
   "outputs": [],
   "source": [
    "df = pd.read_csv(csv_paths[0])"
   ]
  }
 ],
 "metadata": {
  "kernelspec": {
   "display_name": "Python 3",
   "language": "python",
   "name": "python3"
  },
  "language_info": {
   "codemirror_mode": {
    "name": "ipython",
    "version": 3
   },
   "file_extension": ".py",
   "mimetype": "text/x-python",
   "name": "python",
   "nbconvert_exporter": "python",
   "pygments_lexer": "ipython3",
   "version": "3.9.22"
  }
 },
 "nbformat": 4,
 "nbformat_minor": 5
}
